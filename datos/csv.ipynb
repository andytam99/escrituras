{
 "cells": [
  {
   "cell_type": "code",
   "execution_count": 2,
   "metadata": {},
   "outputs": [],
   "source": [
    "import csv\n",
    "import re\n",
    "\n",
    "texto = \"escritos-recientes\"\n",
    "\n",
    "f1 = open(\"../máximas/\" + texto + \".md\", \"r\")\n",
    "txt1 = f1.read()\n",
    "\n",
    "res1 = re.findall(\"[A-z0-9.,].*(?!\\b\\n\\s)[A-z]\", txt1)\n",
    "resall = [res1]\n",
    "\n",
    "fieldname = ['Texto']\n",
    "data = []\n",
    "\n",
    "for x in resall:\n",
    "    for i in x:\n",
    "        data.insert(0, {'Texto': i})\n",
    "\n",
    "# print(data)\n",
    "\n",
    "n = open(\"csv/\" + texto + \".csv\", \"w\", encoding=\"UTF8\")\n",
    "wn = csv.DictWriter(n, fieldnames=fieldname)\n",
    "wn.writeheader()\n",
    "wn.writerows(data)\n",
    "n.close()"
   ]
  }
 ],
 "metadata": {
  "kernelspec": {
   "display_name": "Python 3.9.12 ('base')",
   "language": "python",
   "name": "python3"
  },
  "language_info": {
   "codemirror_mode": {
    "name": "ipython",
    "version": 3
   },
   "file_extension": ".py",
   "mimetype": "text/x-python",
   "name": "python",
   "nbconvert_exporter": "python",
   "pygments_lexer": "ipython3",
   "version": "3.9.12"
  },
  "orig_nbformat": 4,
  "vscode": {
   "interpreter": {
    "hash": "40d3a090f54c6569ab1632332b64b2c03c39dcf918b08424e98f38b5ae0af88f"
   }
  }
 },
 "nbformat": 4,
 "nbformat_minor": 2
}
