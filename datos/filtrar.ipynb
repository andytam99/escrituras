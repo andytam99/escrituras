{
 "cells": [
  {
   "cell_type": "code",
   "execution_count": 9,
   "metadata": {},
   "outputs": [],
   "source": [
    "import pandas as pb\n",
    "\n",
    "pnsm = pb.read_csv('csv/escritos-actuales.csv')\n",
    "ctgr = pb.read_csv('categorías.csv')\n",
    "cols = ctgr.columns.drop(list(ctgr.filter(regex='Unnamed'))).tolist()\n",
    "\n",
    "vals = []\n",
    "\n",
    "for x in cols:\n",
    "    vals.insert(0,'|'.join(ctgr[x].dropna().tolist()))\n",
    "\n",
    "vals = \"|\".join('''\\b{vals}\\b''')"
   ]
  },
  {
   "cell_type": "code",
   "execution_count": 10,
   "metadata": {},
   "outputs": [],
   "source": [
    "pnsm = pnsm[~pnsm['Texto'].str.contains(vals, False)]"
   ]
  },
  {
   "cell_type": "code",
   "execution_count": 11,
   "metadata": {},
   "outputs": [],
   "source": [
    "pnsm.to_csv('csv/analizar/escritos-actuales.csv')"
   ]
  }
 ],
 "metadata": {
  "kernelspec": {
   "display_name": "Python 3.9.12 ('base')",
   "language": "python",
   "name": "python3"
  },
  "language_info": {
   "name": "python",
   "version": "3.9.12"
  },
  "orig_nbformat": 4,
  "vscode": {
   "interpreter": {
    "hash": "40d3a090f54c6569ab1632332b64b2c03c39dcf918b08424e98f38b5ae0af88f"
   }
  }
 },
 "nbformat": 4,
 "nbformat_minor": 2
}
