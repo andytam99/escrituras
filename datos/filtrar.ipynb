{
 "cells": [
  {
   "cell_type": "code",
   "execution_count": 197,
   "metadata": {},
   "outputs": [],
   "source": [
    "import pandas as pb\n",
    "import re\n",
    "import csv\n",
    "\n",
    "texto = 'escritos-actuales'\n",
    "\n",
    "pnsm = pb.read_csv(\"csv/\" + texto + \".csv\")\n",
    "ctgr = pb.read_csv('categorías.csv')\n",
    "noms = ctgr['Nombre'].drop(list(ctgr['Nombre'].filter(regex='Unnamed'))).tolist()\n",
    "cols = ctgr['Categorías'].drop(list(ctgr['Categorías'].filter(regex='Unnamed'))).tolist()\n",
    "\n",
    "vals = []\n",
    "\n",
    "for x, y in enumerate(cols):\n",
    "    vals.insert(0, {'Nombres': noms[x], 'Categorías': y})"
   ]
  },
  {
   "cell_type": "code",
   "execution_count": 203,
   "metadata": {},
   "outputs": [],
   "source": [
    "res = []\n",
    "for x in pnsm['Texto']:\n",
    "    ctg = 0\n",
    "    for z, y in enumerate(vals):\n",
    "        regex = re.compile(\"\\\\b\"+y['Categorías']+\"\\\\b\", flags=re.I)\n",
    "        str = regex.search(x)\n",
    "        if str:\n",
    "            ctg += 1\n",
    "            res.insert(0, {'Categoría': y['Nombres'], 'Texto': x})\n",
    "        if ctg == 0:\n",
    "            res.insert(0, {'Categoría': 'Falso', 'Texto': x})"
   ]
  },
  {
   "cell_type": "code",
   "execution_count": 204,
   "metadata": {},
   "outputs": [],
   "source": [
    "fieldname = ['Categoría', 'Texto',]\n",
    "\n",
    "n = open(\"csv/analizar/\" + texto + \".csv\", \"w\", encoding=\"UTF8\")\n",
    "wn = csv.DictWriter(n, fieldnames=fieldname)\n",
    "wn.writeheader()\n",
    "wn.writerows(res)\n",
    "n.close()"
   ]
  }
 ],
 "metadata": {
  "kernelspec": {
   "display_name": "Python 3.9.12 ('base')",
   "language": "python",
   "name": "python3"
  },
  "language_info": {
   "codemirror_mode": {
    "name": "ipython",
    "version": 3
   },
   "file_extension": ".py",
   "mimetype": "text/x-python",
   "name": "python",
   "nbconvert_exporter": "python",
   "pygments_lexer": "ipython3",
   "version": "3.9.12"
  },
  "orig_nbformat": 4,
  "vscode": {
   "interpreter": {
    "hash": "40d3a090f54c6569ab1632332b64b2c03c39dcf918b08424e98f38b5ae0af88f"
   }
  }
 },
 "nbformat": 4,
 "nbformat_minor": 2
}
